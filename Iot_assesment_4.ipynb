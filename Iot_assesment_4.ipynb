{
  "nbformat": 4,
  "nbformat_minor": 0,
  "metadata": {
    "colab": {
      "provenance": []
    },
    "kernelspec": {
      "name": "python3",
      "display_name": "Python 3"
    },
    "language_info": {
      "name": "python"
    }
  },
  "cells": [
    {
      "cell_type": "code",
      "execution_count": null,
      "metadata": {
        "colab": {
          "base_uri": "https://localhost:8080/"
        },
        "id": "MJEDEWq1n4Gn",
        "outputId": "365b7e78-b46b-4ca6-8da8-a327f558f75f"
      },
      "outputs": [
        {
          "output_type": "stream",
          "name": "stdout",
          "text": [
            "Mounted at /content/drive\n",
            "\n",
            "Your working directory was changed to /content/drive/My Drive/Colab Notebooks/iot\n",
            "\n",
            "An empty text file was created there. You can also run !pwd to confirm the current working directory.\n"
          ]
        }
      ],
      "source": [
        "from google.colab import drive \n",
        "drive.mount('/content/drive')\n",
        "import os \n",
        "\n",
        "# Set your working directory to a folder in your Google Drive. This way, if your notebook times out,\n",
        "# your files will be saved in your Google Drive!\n",
        "\n",
        "# the base Google Drive directory\n",
        "root_dir = \"/content/drive/My Drive/\"\n",
        "\n",
        "# choose where you want your project files to be saved\n",
        "#project_folder = \"NER-Vallabh/NER_Advarisk_Data/Tagged_Data\"\n",
        "project_folder = \"Colab Notebooks/iot\"\n",
        "\n",
        "def create_and_set_working_directory(project_folder):\n",
        "  # check if your project folder exists. if not, it will be created.\n",
        "  if os.path.isdir(root_dir + project_folder) == False:\n",
        "    os.mkdir(root_dir + project_folder)\n",
        "    print(root_dir + project_folder + ' did not exist but was created.')\n",
        "\n",
        "  # change the OS to use your project folder as the working directory\n",
        "  os.chdir(root_dir + project_folder)\n",
        "\n",
        "  # create a test file to make sure it shows up in the right place\n",
        "  !touch 'new_file_in_working_directory.txt'\n",
        "  print('\\nYour working directory was changed to ' + root_dir + project_folder + \\\n",
        "        \"\\n\\nAn empty text file was created there. You can also run !pwd to confirm the current working directory.\" )\n",
        "\n",
        "create_and_set_working_directory(project_folder)"
      ]
    },
    {
      "cell_type": "code",
      "source": [
        "## Major Libraries\n",
        "import numpy as np\n",
        "import pandas as pd\n",
        "import matplotlib.pyplot as plt\n",
        "%matplotlib inline\n",
        "import seaborn as sns\n",
        "import scipy \n",
        "\n",
        "## Other\n",
        "import os, joblib, missingno\n",
        "\n",
        "## sklearn -- Preprocessing & Tuning & Transformation\n",
        "from sklearn.model_selection import train_test_split, cross_val_score, cross_val_predict\n",
        "from sklearn.model_selection import GridSearchCV, RandomizedSearchCV\n",
        "from sklearn.impute import SimpleImputer\n",
        "from sklearn.preprocessing import StandardScaler, LabelEncoder, OneHotEncoder, PolynomialFeatures,OrdinalEncoder\n",
        "from sklearn.pipeline import Pipeline, FeatureUnion\n",
        "\n",
        "\n",
        "## sklearn -- metrics\n",
        "from sklearn.metrics import mean_squared_error, r2_score\n",
        "\n",
        "## sklearn -- Models\n",
        "from sklearn.linear_model import LinearRegression, SGDRegressor, Ridge, Lasso, ElasticNet\n",
        "from sklearn.neighbors import KNeighborsRegressor\n",
        "from sklearn.ensemble import RandomForestRegressor, VotingRegressor, AdaBoostRegressor, GradientBoostingRegressor\n",
        "\n",
        "## Xgboost\n",
        "from xgboost import XGBRegressor"
      ],
      "metadata": {
        "id": "HmnP4w24n6AF"
      },
      "execution_count": 10,
      "outputs": []
    },
    {
      "cell_type": "code",
      "source": [
        "df=pd.read_csv(\"wind_dataset.csv\")\n",
        "df.head()"
      ],
      "metadata": {
        "colab": {
          "base_uri": "https://localhost:8080/",
          "height": 206
        },
        "id": "i8luj9D3plBe",
        "outputId": "3435b17a-6a80-4b7c-e53b-a5ec63c18887"
      },
      "execution_count": 11,
      "outputs": [
        {
          "output_type": "execute_result",
          "data": {
            "text/plain": [
              "         DATE   WIND  IND  RAIN  IND.1  T.MAX  IND.2  T.MIN  T.MIN.G\n",
              "0  1961-01-01  13.67    0   0.2    0.0    9.5    0.0    3.7     -1.0\n",
              "1  1961-01-02  11.50    0   5.1    0.0    7.2    0.0    4.2      1.1\n",
              "2  1961-01-03  11.25    0   0.4    0.0    5.5    0.0    0.5     -0.5\n",
              "3  1961-01-04   8.63    0   0.2    0.0    5.6    0.0    0.4     -3.2\n",
              "4  1961-01-05  11.92    0  10.4    0.0    7.2    1.0   -1.5     -7.5"
            ],
            "text/html": [
              "\n",
              "  <div id=\"df-2be18ead-0d3b-4571-b071-b398b4f87aa6\">\n",
              "    <div class=\"colab-df-container\">\n",
              "      <div>\n",
              "<style scoped>\n",
              "    .dataframe tbody tr th:only-of-type {\n",
              "        vertical-align: middle;\n",
              "    }\n",
              "\n",
              "    .dataframe tbody tr th {\n",
              "        vertical-align: top;\n",
              "    }\n",
              "\n",
              "    .dataframe thead th {\n",
              "        text-align: right;\n",
              "    }\n",
              "</style>\n",
              "<table border=\"1\" class=\"dataframe\">\n",
              "  <thead>\n",
              "    <tr style=\"text-align: right;\">\n",
              "      <th></th>\n",
              "      <th>DATE</th>\n",
              "      <th>WIND</th>\n",
              "      <th>IND</th>\n",
              "      <th>RAIN</th>\n",
              "      <th>IND.1</th>\n",
              "      <th>T.MAX</th>\n",
              "      <th>IND.2</th>\n",
              "      <th>T.MIN</th>\n",
              "      <th>T.MIN.G</th>\n",
              "    </tr>\n",
              "  </thead>\n",
              "  <tbody>\n",
              "    <tr>\n",
              "      <th>0</th>\n",
              "      <td>1961-01-01</td>\n",
              "      <td>13.67</td>\n",
              "      <td>0</td>\n",
              "      <td>0.2</td>\n",
              "      <td>0.0</td>\n",
              "      <td>9.5</td>\n",
              "      <td>0.0</td>\n",
              "      <td>3.7</td>\n",
              "      <td>-1.0</td>\n",
              "    </tr>\n",
              "    <tr>\n",
              "      <th>1</th>\n",
              "      <td>1961-01-02</td>\n",
              "      <td>11.50</td>\n",
              "      <td>0</td>\n",
              "      <td>5.1</td>\n",
              "      <td>0.0</td>\n",
              "      <td>7.2</td>\n",
              "      <td>0.0</td>\n",
              "      <td>4.2</td>\n",
              "      <td>1.1</td>\n",
              "    </tr>\n",
              "    <tr>\n",
              "      <th>2</th>\n",
              "      <td>1961-01-03</td>\n",
              "      <td>11.25</td>\n",
              "      <td>0</td>\n",
              "      <td>0.4</td>\n",
              "      <td>0.0</td>\n",
              "      <td>5.5</td>\n",
              "      <td>0.0</td>\n",
              "      <td>0.5</td>\n",
              "      <td>-0.5</td>\n",
              "    </tr>\n",
              "    <tr>\n",
              "      <th>3</th>\n",
              "      <td>1961-01-04</td>\n",
              "      <td>8.63</td>\n",
              "      <td>0</td>\n",
              "      <td>0.2</td>\n",
              "      <td>0.0</td>\n",
              "      <td>5.6</td>\n",
              "      <td>0.0</td>\n",
              "      <td>0.4</td>\n",
              "      <td>-3.2</td>\n",
              "    </tr>\n",
              "    <tr>\n",
              "      <th>4</th>\n",
              "      <td>1961-01-05</td>\n",
              "      <td>11.92</td>\n",
              "      <td>0</td>\n",
              "      <td>10.4</td>\n",
              "      <td>0.0</td>\n",
              "      <td>7.2</td>\n",
              "      <td>1.0</td>\n",
              "      <td>-1.5</td>\n",
              "      <td>-7.5</td>\n",
              "    </tr>\n",
              "  </tbody>\n",
              "</table>\n",
              "</div>\n",
              "      <button class=\"colab-df-convert\" onclick=\"convertToInteractive('df-2be18ead-0d3b-4571-b071-b398b4f87aa6')\"\n",
              "              title=\"Convert this dataframe to an interactive table.\"\n",
              "              style=\"display:none;\">\n",
              "        \n",
              "  <svg xmlns=\"http://www.w3.org/2000/svg\" height=\"24px\"viewBox=\"0 0 24 24\"\n",
              "       width=\"24px\">\n",
              "    <path d=\"M0 0h24v24H0V0z\" fill=\"none\"/>\n",
              "    <path d=\"M18.56 5.44l.94 2.06.94-2.06 2.06-.94-2.06-.94-.94-2.06-.94 2.06-2.06.94zm-11 1L8.5 8.5l.94-2.06 2.06-.94-2.06-.94L8.5 2.5l-.94 2.06-2.06.94zm10 10l.94 2.06.94-2.06 2.06-.94-2.06-.94-.94-2.06-.94 2.06-2.06.94z\"/><path d=\"M17.41 7.96l-1.37-1.37c-.4-.4-.92-.59-1.43-.59-.52 0-1.04.2-1.43.59L10.3 9.45l-7.72 7.72c-.78.78-.78 2.05 0 2.83L4 21.41c.39.39.9.59 1.41.59.51 0 1.02-.2 1.41-.59l7.78-7.78 2.81-2.81c.8-.78.8-2.07 0-2.86zM5.41 20L4 18.59l7.72-7.72 1.47 1.35L5.41 20z\"/>\n",
              "  </svg>\n",
              "      </button>\n",
              "      \n",
              "  <style>\n",
              "    .colab-df-container {\n",
              "      display:flex;\n",
              "      flex-wrap:wrap;\n",
              "      gap: 12px;\n",
              "    }\n",
              "\n",
              "    .colab-df-convert {\n",
              "      background-color: #E8F0FE;\n",
              "      border: none;\n",
              "      border-radius: 50%;\n",
              "      cursor: pointer;\n",
              "      display: none;\n",
              "      fill: #1967D2;\n",
              "      height: 32px;\n",
              "      padding: 0 0 0 0;\n",
              "      width: 32px;\n",
              "    }\n",
              "\n",
              "    .colab-df-convert:hover {\n",
              "      background-color: #E2EBFA;\n",
              "      box-shadow: 0px 1px 2px rgba(60, 64, 67, 0.3), 0px 1px 3px 1px rgba(60, 64, 67, 0.15);\n",
              "      fill: #174EA6;\n",
              "    }\n",
              "\n",
              "    [theme=dark] .colab-df-convert {\n",
              "      background-color: #3B4455;\n",
              "      fill: #D2E3FC;\n",
              "    }\n",
              "\n",
              "    [theme=dark] .colab-df-convert:hover {\n",
              "      background-color: #434B5C;\n",
              "      box-shadow: 0px 1px 3px 1px rgba(0, 0, 0, 0.15);\n",
              "      filter: drop-shadow(0px 1px 2px rgba(0, 0, 0, 0.3));\n",
              "      fill: #FFFFFF;\n",
              "    }\n",
              "  </style>\n",
              "\n",
              "      <script>\n",
              "        const buttonEl =\n",
              "          document.querySelector('#df-2be18ead-0d3b-4571-b071-b398b4f87aa6 button.colab-df-convert');\n",
              "        buttonEl.style.display =\n",
              "          google.colab.kernel.accessAllowed ? 'block' : 'none';\n",
              "\n",
              "        async function convertToInteractive(key) {\n",
              "          const element = document.querySelector('#df-2be18ead-0d3b-4571-b071-b398b4f87aa6');\n",
              "          const dataTable =\n",
              "            await google.colab.kernel.invokeFunction('convertToInteractive',\n",
              "                                                     [key], {});\n",
              "          if (!dataTable) return;\n",
              "\n",
              "          const docLinkHtml = 'Like what you see? Visit the ' +\n",
              "            '<a target=\"_blank\" href=https://colab.research.google.com/notebooks/data_table.ipynb>data table notebook</a>'\n",
              "            + ' to learn more about interactive tables.';\n",
              "          element.innerHTML = '';\n",
              "          dataTable['output_type'] = 'display_data';\n",
              "          await google.colab.output.renderOutput(dataTable, element);\n",
              "          const docLink = document.createElement('div');\n",
              "          docLink.innerHTML = docLinkHtml;\n",
              "          element.appendChild(docLink);\n",
              "        }\n",
              "      </script>\n",
              "    </div>\n",
              "  </div>\n",
              "  "
            ]
          },
          "metadata": {},
          "execution_count": 11
        }
      ]
    },
    {
      "cell_type": "code",
      "source": [
        "df.describe()"
      ],
      "metadata": {
        "colab": {
          "base_uri": "https://localhost:8080/",
          "height": 331
        },
        "id": "pwYQyem-9fva",
        "outputId": "462c4b92-6423-40e3-af8b-b6631423ce18"
      },
      "execution_count": 12,
      "outputs": [
        {
          "output_type": "execute_result",
          "data": {
            "text/plain": [
              "              WIND          IND         RAIN        IND.1        T.MAX  \\\n",
              "count  6574.000000  6574.000000  6574.000000  6513.000000  5953.000000   \n",
              "mean      9.796834     0.391542     1.885169     0.356364    13.339123   \n",
              "std       4.977272     1.179092     4.030529     1.128552     4.890546   \n",
              "min       0.000000     0.000000     0.000000     0.000000    -0.100000   \n",
              "25%       6.000000     0.000000     0.000000     0.000000     9.600000   \n",
              "50%       9.210000     0.000000     0.200000     0.000000    13.300000   \n",
              "75%      12.960000     0.000000     2.000000     0.000000    17.200000   \n",
              "max      30.370000     4.000000    67.000000     4.000000    26.800000   \n",
              "\n",
              "             IND.2        T.MIN      T.MIN.G  \n",
              "count  6513.000000  5900.000000  6214.000000  \n",
              "mean      0.464456     6.411678     2.736547  \n",
              "std       1.177571     4.637243     5.569175  \n",
              "min       0.000000   -11.500000   -14.400000  \n",
              "25%       0.000000     3.000000    -1.000000  \n",
              "50%       0.000000     6.500000     3.000000  \n",
              "75%       0.000000    10.000000     7.000000  \n",
              "max       4.000000    18.000000    15.800000  "
            ],
            "text/html": [
              "\n",
              "  <div id=\"df-ed993c02-b37d-4a5e-81f7-14b31bfddfd2\">\n",
              "    <div class=\"colab-df-container\">\n",
              "      <div>\n",
              "<style scoped>\n",
              "    .dataframe tbody tr th:only-of-type {\n",
              "        vertical-align: middle;\n",
              "    }\n",
              "\n",
              "    .dataframe tbody tr th {\n",
              "        vertical-align: top;\n",
              "    }\n",
              "\n",
              "    .dataframe thead th {\n",
              "        text-align: right;\n",
              "    }\n",
              "</style>\n",
              "<table border=\"1\" class=\"dataframe\">\n",
              "  <thead>\n",
              "    <tr style=\"text-align: right;\">\n",
              "      <th></th>\n",
              "      <th>WIND</th>\n",
              "      <th>IND</th>\n",
              "      <th>RAIN</th>\n",
              "      <th>IND.1</th>\n",
              "      <th>T.MAX</th>\n",
              "      <th>IND.2</th>\n",
              "      <th>T.MIN</th>\n",
              "      <th>T.MIN.G</th>\n",
              "    </tr>\n",
              "  </thead>\n",
              "  <tbody>\n",
              "    <tr>\n",
              "      <th>count</th>\n",
              "      <td>6574.000000</td>\n",
              "      <td>6574.000000</td>\n",
              "      <td>6574.000000</td>\n",
              "      <td>6513.000000</td>\n",
              "      <td>5953.000000</td>\n",
              "      <td>6513.000000</td>\n",
              "      <td>5900.000000</td>\n",
              "      <td>6214.000000</td>\n",
              "    </tr>\n",
              "    <tr>\n",
              "      <th>mean</th>\n",
              "      <td>9.796834</td>\n",
              "      <td>0.391542</td>\n",
              "      <td>1.885169</td>\n",
              "      <td>0.356364</td>\n",
              "      <td>13.339123</td>\n",
              "      <td>0.464456</td>\n",
              "      <td>6.411678</td>\n",
              "      <td>2.736547</td>\n",
              "    </tr>\n",
              "    <tr>\n",
              "      <th>std</th>\n",
              "      <td>4.977272</td>\n",
              "      <td>1.179092</td>\n",
              "      <td>4.030529</td>\n",
              "      <td>1.128552</td>\n",
              "      <td>4.890546</td>\n",
              "      <td>1.177571</td>\n",
              "      <td>4.637243</td>\n",
              "      <td>5.569175</td>\n",
              "    </tr>\n",
              "    <tr>\n",
              "      <th>min</th>\n",
              "      <td>0.000000</td>\n",
              "      <td>0.000000</td>\n",
              "      <td>0.000000</td>\n",
              "      <td>0.000000</td>\n",
              "      <td>-0.100000</td>\n",
              "      <td>0.000000</td>\n",
              "      <td>-11.500000</td>\n",
              "      <td>-14.400000</td>\n",
              "    </tr>\n",
              "    <tr>\n",
              "      <th>25%</th>\n",
              "      <td>6.000000</td>\n",
              "      <td>0.000000</td>\n",
              "      <td>0.000000</td>\n",
              "      <td>0.000000</td>\n",
              "      <td>9.600000</td>\n",
              "      <td>0.000000</td>\n",
              "      <td>3.000000</td>\n",
              "      <td>-1.000000</td>\n",
              "    </tr>\n",
              "    <tr>\n",
              "      <th>50%</th>\n",
              "      <td>9.210000</td>\n",
              "      <td>0.000000</td>\n",
              "      <td>0.200000</td>\n",
              "      <td>0.000000</td>\n",
              "      <td>13.300000</td>\n",
              "      <td>0.000000</td>\n",
              "      <td>6.500000</td>\n",
              "      <td>3.000000</td>\n",
              "    </tr>\n",
              "    <tr>\n",
              "      <th>75%</th>\n",
              "      <td>12.960000</td>\n",
              "      <td>0.000000</td>\n",
              "      <td>2.000000</td>\n",
              "      <td>0.000000</td>\n",
              "      <td>17.200000</td>\n",
              "      <td>0.000000</td>\n",
              "      <td>10.000000</td>\n",
              "      <td>7.000000</td>\n",
              "    </tr>\n",
              "    <tr>\n",
              "      <th>max</th>\n",
              "      <td>30.370000</td>\n",
              "      <td>4.000000</td>\n",
              "      <td>67.000000</td>\n",
              "      <td>4.000000</td>\n",
              "      <td>26.800000</td>\n",
              "      <td>4.000000</td>\n",
              "      <td>18.000000</td>\n",
              "      <td>15.800000</td>\n",
              "    </tr>\n",
              "  </tbody>\n",
              "</table>\n",
              "</div>\n",
              "      <button class=\"colab-df-convert\" onclick=\"convertToInteractive('df-ed993c02-b37d-4a5e-81f7-14b31bfddfd2')\"\n",
              "              title=\"Convert this dataframe to an interactive table.\"\n",
              "              style=\"display:none;\">\n",
              "        \n",
              "  <svg xmlns=\"http://www.w3.org/2000/svg\" height=\"24px\"viewBox=\"0 0 24 24\"\n",
              "       width=\"24px\">\n",
              "    <path d=\"M0 0h24v24H0V0z\" fill=\"none\"/>\n",
              "    <path d=\"M18.56 5.44l.94 2.06.94-2.06 2.06-.94-2.06-.94-.94-2.06-.94 2.06-2.06.94zm-11 1L8.5 8.5l.94-2.06 2.06-.94-2.06-.94L8.5 2.5l-.94 2.06-2.06.94zm10 10l.94 2.06.94-2.06 2.06-.94-2.06-.94-.94-2.06-.94 2.06-2.06.94z\"/><path d=\"M17.41 7.96l-1.37-1.37c-.4-.4-.92-.59-1.43-.59-.52 0-1.04.2-1.43.59L10.3 9.45l-7.72 7.72c-.78.78-.78 2.05 0 2.83L4 21.41c.39.39.9.59 1.41.59.51 0 1.02-.2 1.41-.59l7.78-7.78 2.81-2.81c.8-.78.8-2.07 0-2.86zM5.41 20L4 18.59l7.72-7.72 1.47 1.35L5.41 20z\"/>\n",
              "  </svg>\n",
              "      </button>\n",
              "      \n",
              "  <style>\n",
              "    .colab-df-container {\n",
              "      display:flex;\n",
              "      flex-wrap:wrap;\n",
              "      gap: 12px;\n",
              "    }\n",
              "\n",
              "    .colab-df-convert {\n",
              "      background-color: #E8F0FE;\n",
              "      border: none;\n",
              "      border-radius: 50%;\n",
              "      cursor: pointer;\n",
              "      display: none;\n",
              "      fill: #1967D2;\n",
              "      height: 32px;\n",
              "      padding: 0 0 0 0;\n",
              "      width: 32px;\n",
              "    }\n",
              "\n",
              "    .colab-df-convert:hover {\n",
              "      background-color: #E2EBFA;\n",
              "      box-shadow: 0px 1px 2px rgba(60, 64, 67, 0.3), 0px 1px 3px 1px rgba(60, 64, 67, 0.15);\n",
              "      fill: #174EA6;\n",
              "    }\n",
              "\n",
              "    [theme=dark] .colab-df-convert {\n",
              "      background-color: #3B4455;\n",
              "      fill: #D2E3FC;\n",
              "    }\n",
              "\n",
              "    [theme=dark] .colab-df-convert:hover {\n",
              "      background-color: #434B5C;\n",
              "      box-shadow: 0px 1px 3px 1px rgba(0, 0, 0, 0.15);\n",
              "      filter: drop-shadow(0px 1px 2px rgba(0, 0, 0, 0.3));\n",
              "      fill: #FFFFFF;\n",
              "    }\n",
              "  </style>\n",
              "\n",
              "      <script>\n",
              "        const buttonEl =\n",
              "          document.querySelector('#df-ed993c02-b37d-4a5e-81f7-14b31bfddfd2 button.colab-df-convert');\n",
              "        buttonEl.style.display =\n",
              "          google.colab.kernel.accessAllowed ? 'block' : 'none';\n",
              "\n",
              "        async function convertToInteractive(key) {\n",
              "          const element = document.querySelector('#df-ed993c02-b37d-4a5e-81f7-14b31bfddfd2');\n",
              "          const dataTable =\n",
              "            await google.colab.kernel.invokeFunction('convertToInteractive',\n",
              "                                                     [key], {});\n",
              "          if (!dataTable) return;\n",
              "\n",
              "          const docLinkHtml = 'Like what you see? Visit the ' +\n",
              "            '<a target=\"_blank\" href=https://colab.research.google.com/notebooks/data_table.ipynb>data table notebook</a>'\n",
              "            + ' to learn more about interactive tables.';\n",
              "          element.innerHTML = '';\n",
              "          dataTable['output_type'] = 'display_data';\n",
              "          await google.colab.output.renderOutput(dataTable, element);\n",
              "          const docLink = document.createElement('div');\n",
              "          docLink.innerHTML = docLinkHtml;\n",
              "          element.appendChild(docLink);\n",
              "        }\n",
              "      </script>\n",
              "    </div>\n",
              "  </div>\n",
              "  "
            ]
          },
          "metadata": {},
          "execution_count": 12
        },
        {
          "output_type": "stream",
          "name": "stdout",
          "text": [
            "Error: Runtime no longer has a reference to this dataframe, please re-run this cell and try again.\n"
          ]
        }
      ]
    },
    {
      "cell_type": "code",
      "source": [
        "df.isna().sum()"
      ],
      "metadata": {
        "colab": {
          "base_uri": "https://localhost:8080/"
        },
        "id": "ATIgjmyCplEP",
        "outputId": "51f0f8c9-2d56-4045-8ec3-31e0b2188855"
      },
      "execution_count": 13,
      "outputs": [
        {
          "output_type": "execute_result",
          "data": {
            "text/plain": [
              "DATE         0\n",
              "WIND         0\n",
              "IND          0\n",
              "RAIN         0\n",
              "IND.1       61\n",
              "T.MAX      621\n",
              "IND.2       61\n",
              "T.MIN      674\n",
              "T.MIN.G    360\n",
              "dtype: int64"
            ]
          },
          "metadata": {},
          "execution_count": 13
        }
      ]
    },
    {
      "cell_type": "code",
      "source": [
        "missingno.bar(df);"
      ],
      "metadata": {
        "colab": {
          "base_uri": "https://localhost:8080/",
          "height": 573
        },
        "id": "krhxhOuhplHG",
        "outputId": "e1bd4589-2453-4324-c32a-7b5e4056e2b6"
      },
      "execution_count": 14,
      "outputs": [
        {
          "output_type": "display_data",
          "data": {
            "text/plain": [
              "<Figure size 1800x720 with 3 Axes>"
            ],
            "image/png": "[encoded data removed]"
          },
          "metadata": {
            "needs_background": "light"
          }
        }
      ]
    },
    {
      "cell_type": "code",
      "source": [
        "df.corr()['WIND'].sort_values(ascending=False)"
      ],
      "metadata": {
        "colab": {
          "base_uri": "https://localhost:8080/"
        },
        "id": "qDyRg94EplKw",
        "outputId": "864080a2-457a-49a5-b4db-6fef16b3ee1e"
      },
      "execution_count": 15,
      "outputs": [
        {
          "output_type": "execute_result",
          "data": {
            "text/plain": [
              "WIND       1.000000\n",
              "RAIN       0.120876\n",
              "IND.1      0.070512\n",
              "IND.2      0.047860\n",
              "T.MIN.G    0.012823\n",
              "IND       -0.038578\n",
              "T.MIN     -0.093014\n",
              "T.MAX     -0.242559\n",
              "Name: WIND, dtype: float64"
            ]
          },
          "metadata": {},
          "execution_count": 15
        }
      ]
    },
    {
      "cell_type": "code",
      "source": [
        "plt.figure(figsize=(12, 6))\n",
        "sns.heatmap(df.corr(), annot=True, cmap='Blues', fmt='.2f')  ## symmetric matrix\n",
        "plt.show()"
      ],
      "metadata": {
        "colab": {
          "base_uri": "https://localhost:8080/",
          "height": 378
        },
        "id": "K51_JLSlplOa",
        "outputId": "43afde7c-157f-43cd-c7fd-c23f14ae5b17"
      },
      "execution_count": 16,
      "outputs": [
        {
          "output_type": "display_data",
          "data": {
            "text/plain": [
              "<Figure size 864x432 with 2 Axes>"
            ],
            "image/png": "[encoded data removed]"
          },
          "metadata": {
            "needs_background": "light"
          }
        }
      ]
    },
    {
      "cell_type": "code",
      "source": [
        "df['DATE']=pd.to_datetime(df['DATE'])"
      ],
      "metadata": {
        "id": "C5CKc0gcplRy"
      },
      "execution_count": 17,
      "outputs": []
    },
    {
      "cell_type": "code",
      "source": [
        "df.info()"
      ],
      "metadata": {
        "colab": {
          "base_uri": "https://localhost:8080/"
        },
        "id": "LffiGJmBplU2",
        "outputId": "4e5d60bd-ea6c-4f07-a829-d0c59daa8531"
      },
      "execution_count": 18,
      "outputs": [
        {
          "output_type": "stream",
          "name": "stdout",
          "text": [
            "<class 'pandas.core.frame.DataFrame'>\n",
            "RangeIndex: 6574 entries, 0 to 6573\n",
            "Data columns (total 9 columns):\n",
            " #   Column   Non-Null Count  Dtype         \n",
            "---  ------   --------------  -----         \n",
            " 0   DATE     6574 non-null   datetime64[ns]\n",
            " 1   WIND     6574 non-null   float64       \n",
            " 2   IND      6574 non-null   int64         \n",
            " 3   RAIN     6574 non-null   float64       \n",
            " 4   IND.1    6513 non-null   float64       \n",
            " 5   T.MAX    5953 non-null   float64       \n",
            " 6   IND.2    6513 non-null   float64       \n",
            " 7   T.MIN    5900 non-null   float64       \n",
            " 8   T.MIN.G  6214 non-null   float64       \n",
            "dtypes: datetime64[ns](1), float64(7), int64(1)\n",
            "memory usage: 462.4 KB\n"
          ]
        }
      ]
    },
    {
      "cell_type": "code",
      "source": [
        "df['date_year']=df['DATE'].dt.year  #year\n",
        "df['date_month_no']=df['DATE'].dt.month  #month\n",
        "df['date_day']=df['DATE'].dt.day  # day\n",
        "df=df.drop(columns=['DATE'])\n",
        "df.head()"
      ],
      "metadata": {
        "colab": {
          "base_uri": "https://localhost:8080/",
          "height": 206
        },
        "id": "d4C-58QlplYD",
        "outputId": "778da009-4df2-4877-acba-573ff5cda1f6"
      },
      "execution_count": 19,
      "outputs": [
        {
          "output_type": "execute_result",
          "data": {
            "text/plain": [
              "    WIND  IND  RAIN  IND.1  T.MAX  IND.2  T.MIN  T.MIN.G  date_year  \\\n",
              "0  13.67    0   0.2    0.0    9.5    0.0    3.7     -1.0       1961   \n",
              "1  11.50    0   5.1    0.0    7.2    0.0    4.2      1.1       1961   \n",
              "2  11.25    0   0.4    0.0    5.5    0.0    0.5     -0.5       1961   \n",
              "3   8.63    0   0.2    0.0    5.6    0.0    0.4     -3.2       1961   \n",
              "4  11.92    0  10.4    0.0    7.2    1.0   -1.5     -7.5       1961   \n",
              "\n",
              "   date_month_no  date_day  \n",
              "0              1         1  \n",
              "1              1         2  \n",
              "2              1         3  \n",
              "3              1         4  \n",
              "4              1         5  "
            ],
            "text/html": [
              "\n",
              "  <div id=\"df-53b2f5d3-b05e-4c58-9de1-cb85f2d782af\">\n",
              "    <div class=\"colab-df-container\">\n",
              "      <div>\n",
              "<style scoped>\n",
              "    .dataframe tbody tr th:only-of-type {\n",
              "        vertical-align: middle;\n",
              "    }\n",
              "\n",
              "    .dataframe tbody tr th {\n",
              "        vertical-align: top;\n",
              "    }\n",
              "\n",
              "    .dataframe thead th {\n",
              "        text-align: right;\n",
              "    }\n",
              "</style>\n",
              "<table border=\"1\" class=\"dataframe\">\n",
              "  <thead>\n",
              "    <tr style=\"text-align: right;\">\n",
              "      <th></th>\n",
              "      <th>WIND</th>\n",
              "      <th>IND</th>\n",
              "      <th>RAIN</th>\n",
              "      <th>IND.1</th>\n",
              "      <th>T.MAX</th>\n",
              "      <th>IND.2</th>\n",
              "      <th>T.MIN</th>\n",
              "      <th>T.MIN.G</th>\n",
              "      <th>date_year</th>\n",
              "      <th>date_month_no</th>\n",
              "      <th>date_day</th>\n",
              "    </tr>\n",
              "  </thead>\n",
              "  <tbody>\n",
              "    <tr>\n",
              "      <th>0</th>\n",
              "      <td>13.67</td>\n",
              "      <td>0</td>\n",
              "      <td>0.2</td>\n",
              "      <td>0.0</td>\n",
              "      <td>9.5</td>\n",
              "      <td>0.0</td>\n",
              "      <td>3.7</td>\n",
              "      <td>-1.0</td>\n",
              "      <td>1961</td>\n",
              "      <td>1</td>\n",
              "      <td>1</td>\n",
              "    </tr>\n",
              "    <tr>\n",
              "      <th>1</th>\n",
              "      <td>11.50</td>\n",
              "      <td>0</td>\n",
              "      <td>5.1</td>\n",
              "      <td>0.0</td>\n",
              "      <td>7.2</td>\n",
              "      <td>0.0</td>\n",
              "      <td>4.2</td>\n",
              "      <td>1.1</td>\n",
              "      <td>1961</td>\n",
              "      <td>1</td>\n",
              "      <td>2</td>\n",
              "    </tr>\n",
              "    <tr>\n",
              "      <th>2</th>\n",
              "      <td>11.25</td>\n",
              "      <td>0</td>\n",
              "      <td>0.4</td>\n",
              "      <td>0.0</td>\n",
              "      <td>5.5</td>\n",
              "      <td>0.0</td>\n",
              "      <td>0.5</td>\n",
              "      <td>-0.5</td>\n",
              "      <td>1961</td>\n",
              "      <td>1</td>\n",
              "      <td>3</td>\n",
              "    </tr>\n",
              "    <tr>\n",
              "      <th>3</th>\n",
              "      <td>8.63</td>\n",
              "      <td>0</td>\n",
              "      <td>0.2</td>\n",
              "      <td>0.0</td>\n",
              "      <td>5.6</td>\n",
              "      <td>0.0</td>\n",
              "      <td>0.4</td>\n",
              "      <td>-3.2</td>\n",
              "      <td>1961</td>\n",
              "      <td>1</td>\n",
              "      <td>4</td>\n",
              "    </tr>\n",
              "    <tr>\n",
              "      <th>4</th>\n",
              "      <td>11.92</td>\n",
              "      <td>0</td>\n",
              "      <td>10.4</td>\n",
              "      <td>0.0</td>\n",
              "      <td>7.2</td>\n",
              "      <td>1.0</td>\n",
              "      <td>-1.5</td>\n",
              "      <td>-7.5</td>\n",
              "      <td>1961</td>\n",
              "      <td>1</td>\n",
              "      <td>5</td>\n",
              "    </tr>\n",
              "  </tbody>\n",
              "</table>\n",
              "</div>\n",
              "      <button class=\"colab-df-convert\" onclick=\"convertToInteractive('df-53b2f5d3-b05e-4c58-9de1-cb85f2d782af')\"\n",
              "              title=\"Convert this dataframe to an interactive table.\"\n",
              "              style=\"display:none;\">\n",
              "        \n",
              "  <svg xmlns=\"http://www.w3.org/2000/svg\" height=\"24px\"viewBox=\"0 0 24 24\"\n",
              "       width=\"24px\">\n",
              "    <path d=\"M0 0h24v24H0V0z\" fill=\"none\"/>\n",
              "    <path d=\"M18.56 5.44l.94 2.06.94-2.06 2.06-.94-2.06-.94-.94-2.06-.94 2.06-2.06.94zm-11 1L8.5 8.5l.94-2.06 2.06-.94-2.06-.94L8.5 2.5l-.94 2.06-2.06.94zm10 10l.94 2.06.94-2.06 2.06-.94-2.06-.94-.94-2.06-.94 2.06-2.06.94z\"/><path d=\"M17.41 7.96l-1.37-1.37c-.4-.4-.92-.59-1.43-.59-.52 0-1.04.2-1.43.59L10.3 9.45l-7.72 7.72c-.78.78-.78 2.05 0 2.83L4 21.41c.39.39.9.59 1.41.59.51 0 1.02-.2 1.41-.59l7.78-7.78 2.81-2.81c.8-.78.8-2.07 0-2.86zM5.41 20L4 18.59l7.72-7.72 1.47 1.35L5.41 20z\"/>\n",
              "  </svg>\n",
              "      </button>\n",
              "      \n",
              "  <style>\n",
              "    .colab-df-container {\n",
              "      display:flex;\n",
              "      flex-wrap:wrap;\n",
              "      gap: 12px;\n",
              "    }\n",
              "\n",
              "    .colab-df-convert {\n",
              "      background-color: #E8F0FE;\n",
              "      border: none;\n",
              "      border-radius: 50%;\n",
              "      cursor: pointer;\n",
              "      display: none;\n",
              "      fill: #1967D2;\n",
              "      height: 32px;\n",
              "      padding: 0 0 0 0;\n",
              "      width: 32px;\n",
              "    }\n",
              "\n",
              "    .colab-df-convert:hover {\n",
              "      background-color: #E2EBFA;\n",
              "      box-shadow: 0px 1px 2px rgba(60, 64, 67, 0.3), 0px 1px 3px 1px rgba(60, 64, 67, 0.15);\n",
              "      fill: #174EA6;\n",
              "    }\n",
              "\n",
              "    [theme=dark] .colab-df-convert {\n",
              "      background-color: #3B4455;\n",
              "      fill: #D2E3FC;\n",
              "    }\n",
              "\n",
              "    [theme=dark] .colab-df-convert:hover {\n",
              "      background-color: #434B5C;\n",
              "      box-shadow: 0px 1px 3px 1px rgba(0, 0, 0, 0.15);\n",
              "      filter: drop-shadow(0px 1px 2px rgba(0, 0, 0, 0.3));\n",
              "      fill: #FFFFFF;\n",
              "    }\n",
              "  </style>\n",
              "\n",
              "      <script>\n",
              "        const buttonEl =\n",
              "          document.querySelector('#df-53b2f5d3-b05e-4c58-9de1-cb85f2d782af button.colab-df-convert');\n",
              "        buttonEl.style.display =\n",
              "          google.colab.kernel.accessAllowed ? 'block' : 'none';\n",
              "\n",
              "        async function convertToInteractive(key) {\n",
              "          const element = document.querySelector('#df-53b2f5d3-b05e-4c58-9de1-cb85f2d782af');\n",
              "          const dataTable =\n",
              "            await google.colab.kernel.invokeFunction('convertToInteractive',\n",
              "                                                     [key], {});\n",
              "          if (!dataTable) return;\n",
              "\n",
              "          const docLinkHtml = 'Like what you see? Visit the ' +\n",
              "            '<a target=\"_blank\" href=https://colab.research.google.com/notebooks/data_table.ipynb>data table notebook</a>'\n",
              "            + ' to learn more about interactive tables.';\n",
              "          element.innerHTML = '';\n",
              "          dataTable['output_type'] = 'display_data';\n",
              "          await google.colab.output.renderOutput(dataTable, element);\n",
              "          const docLink = document.createElement('div');\n",
              "          docLink.innerHTML = docLinkHtml;\n",
              "          element.appendChild(docLink);\n",
              "        }\n",
              "      </script>\n",
              "    </div>\n",
              "  </div>\n",
              "  "
            ]
          },
          "metadata": {},
          "execution_count": 19
        }
      ]
    },
    {
      "cell_type": "code",
      "source": [
        "## Split the whole Dataset to Feature & Target\n",
        "X = df.drop(columns=['WIND'], axis=1)   ## Features\n",
        "y = df['WIND']   ## target"
      ],
      "metadata": {
        "id": "EKz8LI03plbh"
      },
      "execution_count": 20,
      "outputs": []
    },
    {
      "cell_type": "code",
      "source": [
        "X_train, X_test, y_train, y_test = train_test_split(X, y, test_size=0.15, shuffle=True, random_state=42)\n",
        "\n",
        "## Check Shapes of these Sets\n",
        "print('X_train shape -- ', X_train.shape)\n",
        "print('y_train shape -- ', y_train.shape)\n",
        "print('X_test shape -- ', X_test.shape)\n",
        "print('y_test shape -- ', y_test.shape)"
      ],
      "metadata": {
        "colab": {
          "base_uri": "https://localhost:8080/"
        },
        "id": "875awqjLple8",
        "outputId": "b185e409-c4f0-44f9-cffe-7d0cfea9cd0d"
      },
      "execution_count": 21,
      "outputs": [
        {
          "output_type": "stream",
          "name": "stdout",
          "text": [
            "X_train shape --  (5587, 10)\n",
            "y_train shape --  (5587,)\n",
            "X_test shape --  (987, 10)\n",
            "y_test shape --  (987,)\n"
          ]
        }
      ]
    },
    {
      "cell_type": "code",
      "source": [
        "num_pipeline = Pipeline(steps=[\n",
        "                        ('imputer', SimpleImputer(strategy='median')),\n",
        "                        ('scaler', StandardScaler())\n",
        "                              ]\n",
        "                       )\n",
        "## deal with (num_pipline) as an instance -- fit and transform to train dataset and transform only to other datasets\n",
        "X_train_num = num_pipeline.fit_transform(X_train)  ## train\n",
        "X_test_num = num_pipeline.transform(X_test) "
      ],
      "metadata": {
        "id": "3O7p4J2Rpli2"
      },
      "execution_count": 22,
      "outputs": []
    },
    {
      "cell_type": "code",
      "source": [
        "lin_reg = LinearRegression()\n",
        "lin_reg.fit(X_train_num, y_train) \n",
        "rmse_scores_lin = cross_val_score(estimator=lin_reg, X=X_train_num, y=y_train, \n",
        "                               cv=5, scoring='neg_mean_squared_error', n_jobs=-1)  ## sklearn deals with error as negative\n",
        "rmse_scores_lin = -1 * rmse_scores_lin   ## we want it positive\n",
        "rmse_scores_lin = np.sqrt(rmse_scores_lin)\n",
        "print(f'RMSE Scores Using LinearRegression --- {np.round(rmse_scores_lin, 4)}')\n",
        "print(f'Mean of RMSE Scores Using LinearRegression --- {rmse_scores_lin.mean():.4f}')\n",
        "y_pred_test=lin_reg.predict(X_test_num)\n",
        "rmse_test = np.sqrt(mean_squared_error(y_test, y_pred_test))\n",
        "print(f'RMSE on test Dataset using linear regression -- {rmse_test:.3f}')\n"
      ],
      "metadata": {
        "colab": {
          "base_uri": "https://localhost:8080/"
        },
        "id": "QUhITuqXqTlu",
        "outputId": "dd49f59f-aaa4-4631-fe58-4ea347d7974d"
      },
      "execution_count": 23,
      "outputs": [
        {
          "output_type": "stream",
          "name": "stdout",
          "text": [
            "RMSE Scores Using LinearRegression --- [4.5252 4.6554 4.7454 4.6851 4.6596]\n",
            "Mean of RMSE Scores Using LinearRegression --- 4.6541\n",
            "RMSE on test Dataset using linear regression -- 4.874\n"
          ]
        }
      ]
    },
    {
      "cell_type": "code",
      "source": [
        "sgd_reg = SGDRegressor(penalty='l2', alpha=0.0001, eta0=0.001, shuffle=True, max_iter=10000)  ## with Regularization\n",
        "sgd_reg.fit(X_train_num, y_train)\n",
        "rmse_scores_sgd = cross_val_score(estimator=sgd_reg, X=X_train_num, y=y_train, \n",
        "                               cv=5, scoring='neg_mean_squared_error', n_jobs=-1)  ## sklearn deals with error as negative\n",
        "rmse_scores_sgd = -1 * rmse_scores_sgd   ## we want it positive\n",
        "rmse_scores_sgd = np.sqrt(rmse_scores_sgd)\n",
        "print(f'RMSE Scores Using SGDRegressor --- {np.round(rmse_scores_sgd, 4)}')\n",
        "print(f'Mean of RMSE Scores Using SGDRegressor --- {rmse_scores_sgd.mean():.4f}')\n",
        "y_pred_test=sgd_reg.predict(X_test_num)\n",
        "rmse_test = np.sqrt(mean_squared_error(y_test, y_pred_test))\n",
        "print(f'RMSE on test Dataset using SGDRegressor -- {rmse_test:.3f}')"
      ],
      "metadata": {
        "colab": {
          "base_uri": "https://localhost:8080/"
        },
        "id": "Bt-cCsr7qToa",
        "outputId": "64ee863e-f0fe-4ec8-c440-3266360528e4"
      },
      "execution_count": 24,
      "outputs": [
        {
          "output_type": "stream",
          "name": "stdout",
          "text": [
            "RMSE Scores Using SGDRegressor --- [4.5249 4.6547 4.7524 4.6931 4.6534]\n",
            "Mean of RMSE Scores Using SGDRegressor --- 4.6557\n",
            "RMSE on test Dataset using SGDRegressor -- 4.872\n"
          ]
        }
      ]
    },
    {
      "cell_type": "code",
      "source": [
        "forest_reg = RandomForestRegressor(n_estimators=400, max_depth=18, max_samples=0.9, random_state=42, n_jobs=-1)\n",
        "forest_reg.fit(X_train_num, y_train) \n",
        "rmse_scores_forest = cross_val_score(estimator=forest_reg, X=X_train_num, y=y_train, \n",
        "                               cv=5, scoring='neg_mean_squared_error', n_jobs=-1)  ## sklearn deals with error as negative\n",
        "rmse_scores_forest = -1 * rmse_scores_forest   ## we want it positive\n",
        "rmse_scores_forest = np.sqrt(rmse_scores_forest)\n",
        "print(f'RMSE Scores Using RandomForest --- {np.round(rmse_scores_forest, 4)}')\n",
        "print(f'Mean of RMSE Scores Using RandomForest --- {rmse_scores_forest.mean():.4f}')\n",
        "y_pred_test=forest_reg.predict(X_test_num)\n",
        "rmse_test = np.sqrt(mean_squared_error(y_test, y_pred_test))\n",
        "print(f'RMSE on test Dataset using RandomForest -- {rmse_test:.3f}')"
      ],
      "metadata": {
        "colab": {
          "base_uri": "https://localhost:8080/"
        },
        "id": "uBrEOhn-qTry",
        "outputId": "46f76632-7716-4cd5-876e-c57fc580f4aa"
      },
      "execution_count": 25,
      "outputs": [
        {
          "output_type": "stream",
          "name": "stdout",
          "text": [
            "RMSE Scores Using RandomForest --- [4.094  4.3217 4.404  4.2198 4.2459]\n",
            "Mean of RMSE Scores Using RandomForest --- 4.2571\n",
            "RMSE on test Dataset using RandomForest -- 4.434\n"
          ]
        }
      ]
    },
    {
      "cell_type": "code",
      "source": [
        "ada_reg = AdaBoostRegressor()\n",
        "ada_reg.fit(X_train_num, y_train) \n",
        "rmse_scores_forest = cross_val_score(estimator=ada_reg, X=X_train_num, y=y_train, \n",
        "                               cv=5, scoring='neg_mean_squared_error', n_jobs=-1)  ## sklearn deals with error as negative\n",
        "rmse_scores_forest = -1 * rmse_scores_forest   ## we want it positive\n",
        "rmse_scores_forest = np.sqrt(rmse_scores_forest)\n",
        "print(f'RMSE Scores Using AdaBoostRegressor --- {np.round(rmse_scores_forest, 4)}')\n",
        "print(f'Mean of RMSE Scores Using AdaBoostRegressor --- {rmse_scores_forest.mean():.4f}')\n",
        "y_pred_test=ada_reg.predict(X_test_num)\n",
        "rmse_test = np.sqrt(mean_squared_error(y_test, y_pred_test))\n",
        "print(f'RMSE on test Dataset using AdaBoostRegressor -- {rmse_test:.3f}')"
      ],
      "metadata": {
        "colab": {
          "base_uri": "https://localhost:8080/"
        },
        "id": "2x-nzzTSvctC",
        "outputId": "0d6d9c97-90e5-4833-9802-ba3561e8d612"
      },
      "execution_count": 26,
      "outputs": [
        {
          "output_type": "stream",
          "name": "stdout",
          "text": [
            "RMSE Scores Using AdaBoostRegressor --- [4.4544 4.5205 4.6591 4.562  4.6245]\n",
            "Mean of RMSE Scores Using AdaBoostRegressor --- 4.5641\n",
            "RMSE on test Dataset using AdaBoostRegressor -- 4.735\n"
          ]
        }
      ]
    },
    {
      "cell_type": "code",
      "source": [
        "gb_reg = GradientBoostingRegressor()\n",
        "gb_reg.fit(X_train_num, y_train) \n",
        "gb_scores = cross_val_score(estimator=gb_reg, X=X_train_num, y=y_train, \n",
        "                               cv=5, scoring='neg_mean_squared_error', n_jobs=-1)  ## sklearn deals with error as negative\n",
        "gb_scores = -1 * gb_scores   ## we want it positive\n",
        "gb_scores = np.sqrt(gb_scores)\n",
        "print(f'RMSE Scores Using GradientBoostingRegressor --- {np.round(gb_scores, 4)}')\n",
        "print(f'Mean of RMSE Scores Using GradientBoostingRegressor --- {gb_scores.mean():.4f}')\n",
        "y_pred_test=gb_reg.predict(X_test_num)\n",
        "rmse_test = np.sqrt(mean_squared_error(y_test, y_pred_test))\n",
        "print(f'RMSE on test Dataset using GradientBoostingRegressor -- {rmse_test:.3f}')"
      ],
      "metadata": {
        "colab": {
          "base_uri": "https://localhost:8080/"
        },
        "id": "qZzoXLW5wFbG",
        "outputId": "c11feb6a-935a-495b-cc7d-fa62b85c318e"
      },
      "execution_count": 27,
      "outputs": [
        {
          "output_type": "stream",
          "name": "stdout",
          "text": [
            "RMSE Scores Using GradientBoostingRegressor --- [4.1419 4.3067 4.3792 4.2121 4.2454]\n",
            "Mean of RMSE Scores Using GradientBoostingRegressor --- 4.2571\n",
            "RMSE on test Dataset using GradientBoostingRegressor -- 4.434\n"
          ]
        }
      ]
    },
    {
      "cell_type": "code",
      "source": [
        "xgb_reg = XGBRegressor(n_estimators=150, max_depth=8, learning_rate=0.1, subsample=0.8)\n",
        "xgb_reg.fit(X_train_num, y_train)\n",
        "rmse_scores_xgb = cross_val_score(estimator=xgb_reg, X=X_train_num, y=y_train, \n",
        "                               cv=5, scoring='neg_mean_squared_error', n_jobs=-1)  ## sklearn deals with error as negative\n",
        "rmse_scores_xgb = -1 * rmse_scores_xgb   ## we want it positive\n",
        "rmse_scores_xgb = np.sqrt(rmse_scores_xgb)\n",
        "print(f'RMSE Scores Using Tuned XGBoost --- {np.round(rmse_scores_xgb, 4)}')\n",
        "print(f'Mean of RMSE Scores Using XGBoost --- {rmse_scores_xgb.mean():.4f}')\n",
        "y_pred_test=xgb_reg.predict(X_test_num)\n",
        "rmse_test = np.sqrt(mean_squared_error(y_test, y_pred_test))\n",
        "print(f'RMSE on test Dataset using XGBRegressor -- {rmse_test:.3f}')"
      ],
      "metadata": {
        "colab": {
          "base_uri": "https://localhost:8080/"
        },
        "id": "_7NchvzmqTua",
        "outputId": "5d293aac-214c-41a6-8a5d-fa424d2aef2c"
      },
      "execution_count": 28,
      "outputs": [
        {
          "output_type": "stream",
          "name": "stdout",
          "text": [
            "[13:46:15] WARNING: /workspace/src/objective/regression_obj.cu:152: reg:linear is now deprecated in favor of reg:squarederror.\n",
            "RMSE Scores Using Tuned XGBoost --- [4.1604 4.2806 4.4154 4.2053 4.3012]\n",
            "Mean of RMSE Scores Using XGBoost --- 4.2726\n",
            "RMSE on test Dataset using XGBRegressor -- 4.347\n"
          ]
        }
      ]
    },
    {
      "cell_type": "code",
      "source": [],
      "metadata": {
        "id": "30yzCqcu9dMz"
      },
      "execution_count": null,
      "outputs": []
    },
    {
      "cell_type": "code",
      "source": [],
      "metadata": {
        "id": "38Kr1qG_qTxg"
      },
      "execution_count": null,
      "outputs": []
    },
    {
      "cell_type": "code",
      "source": [],
      "metadata": {
        "id": "kg0faKa4qT0o"
      },
      "execution_count": null,
      "outputs": []
    },
    {
      "cell_type": "code",
      "source": [],
      "metadata": {
        "id": "Rk4QYDqqqT4C"
      },
      "execution_count": null,
      "outputs": []
    },
    {
      "cell_type": "code",
      "source": [],
      "metadata": {
        "id": "FaZaJDukqT7Q"
      },
      "execution_count": null,
      "outputs": []
    },
    {
      "cell_type": "code",
      "source": [],
      "metadata": {
        "id": "0t7Pn1ApqT-u"
      },
      "execution_count": null,
      "outputs": []
    },
    {
      "cell_type": "code",
      "source": [],
      "metadata": {
        "id": "U4pqob1_n6F4"
      },
      "execution_count": null,
      "outputs": []
    },
    {
      "cell_type": "code",
      "source": [],
      "metadata": {
        "id": "oZMAKh-pn6Id"
      },
      "execution_count": null,
      "outputs": []
    }
  ]
}